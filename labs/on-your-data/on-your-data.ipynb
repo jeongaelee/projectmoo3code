{
 "cells": [
  {
   "cell_type": "markdown",
   "metadata": {},
   "source": [
    "### 코드 순서\n",
    "- [0️⃣ Initialize notebook variables](#0)\n",
    "- [🧪 Azure OpenAI를 직접 호출하여 On Your Data에서 응답을 리턴하는지 테스트](#requests)\n",
    "- [🧪 API Management를 직접 HTTP를 호출하여 API 테스트](#requests)\n",
    "\n",
    "### 사전 준비 사항\n",
    "- [Python 3.8 or later version](https://www.python.org/) installed\n",
    "- [Pandas Library](https://pandas.pydata.org/) and matplotlib installed\n",
    "- [VS Code](https://code.visualstudio.com/) installed with the [Jupyter notebook extension](https://marketplace.visualstudio.com/items?itemName=ms-toolsai.jupyter) enabled\n",
    "- [Azure CLI](https://learn.microsoft.com/en-us/cli/azure/install-azure-cli) installed\n",
    "- [Sign in to Azure with Azure CLI](https://learn.microsoft.com/en-us/cli/azure/authenticate-azure-cli-interactively)"
   ]
  },
  {
   "cell_type": "markdown",
   "metadata": {},
   "source": [
    "<a id='0'></a>\n",
    "### 0️⃣ Initialize notebook variables\n",
    "\n",
    "- 리소스 그룹 명, Azure OpenAI에서 배포한 deployment 이름 (예: gpt-4o), OpenAI API 버전 (예:2024-02-01)을 입력합니다.\n",
    "- API Gateway URL과 Subscription Key를 입력합니다.\n",
    "- Subscription Key는 Azure Portal의 API Management 리소스에서 APIs->Subscriptions->Built-in all-access subscription의 Primary key를 입력합니다."
   ]
  },
  {
   "cell_type": "code",
   "execution_count": null,
   "metadata": {},
   "outputs": [],
   "source": [
    "import os\n",
    "import json\n",
    "import datetime\n",
    "import requests\n",
    "\n",
    "resource_group_name = \"{resource-group-name}\" # 이전 단계에서 생성한 리소스 그룹 이름을 입력합니다.\n",
    "openai_deployment_name = \"gpt-4o\"\n",
    "openai_api_version = \"2024-02-01\"\n",
    "openai_model_name = \"gpt-4o\"\n",
    "apim_resource_gateway_url = \"{apim-endpoint}\" # 이전 단계에서 생성한 APIM 리소스의 게이트웨이 URL을 입력합니다.\n",
    "apim_subscription_key = \"{apim-subscriptoin-key}\" # 이전 단계에서 생성한 APIM 리소스의 구독 키를 입력합니다.\n"
   ]
  },
  {
   "cell_type": "markdown",
   "metadata": {},
   "source": [
    "<a id='requests'></a>\n",
    "### 🧪 Azure OpenAI를 직접 호출하여 On Your Data에서 응답을 리턴하는지 테스트"
   ]
  },
  {
   "cell_type": "code",
   "execution_count": null,
   "metadata": {},
   "outputs": [],
   "source": [
    "import os\n",
    "import openai\n",
    "import dotenv\n",
    "\n",
    "dotenv.load_dotenv()\n",
    "\n",
    "endpoint = \"{azure-openai-endpoint}\" # Azure OpenAI 리소스의 엔드포인트를 입력합니다.\n",
    "api_key = \"{azure-openai-api-key}\" # Azure OpenAI 리소스의 API 키를 입력합니다.\n",
    "deployment = \"gpt-4o\" # Azure OpenAI 리소스의 모델 배포 이름을 입력합니다.\n",
    "\n",
    "client = openai.AzureOpenAI(\n",
    "    azure_endpoint=endpoint,\n",
    "    api_key=api_key,\n",
    "    api_version=\"2024-02-01\", # Azure OpenAI API 버전을 입력합니다. (모델 버전 X)\n",
    ")\n",
    "\n",
    "completion = client.chat.completions.create(\n",
    "    model=deployment,\n",
    "    messages=[\n",
    "        {\n",
    "            \"role\": \"user\",\n",
    "            \"content\": \"서울교대부초에 원서 접수를 할 수 있는 조건은 무엇인가요?\",\n",
    "        },\n",
    "    ],\n",
    "    extra_body={\n",
    "        \"data_sources\":[\n",
    "            {\n",
    "                \"type\": \"azure_search\",\n",
    "                \"parameters\": {\n",
    "                    \"endpoint\": \"{azure-ai-search-endpoint}\", # Azure AI Search 리소스의 엔드포인트를 입력합니다.\n",
    "                    \"index_name\": \"{azure-ai-search-index-name}\", # Azure AI Search 리소스의 인덱스 이름을 입력합니다.\n",
    "                    \"authentication\": {\n",
    "                        \"type\": \"api_key\",\n",
    "                        \"key\": \"{azure-ai-search-api-key}\", # Azure AI Search 리소스의 API 키를 입력합니다.\n",
    "                    }\n",
    "                }\n",
    "            }\n",
    "        ],\n",
    "    }\n",
    ")\n",
    "\n",
    "print(completion.model_dump_json(indent=2))"
   ]
  },
  {
   "cell_type": "markdown",
   "metadata": {},
   "source": [
    "<a id='requests'></a>\n",
    "### 🧪 API Management를 직접 HTTP를 호출하여 API 테스트"
   ]
  },
  {
   "cell_type": "code",
   "execution_count": null,
   "metadata": {},
   "outputs": [],
   "source": [
    "import json\n",
    "\n",
    "url = \"https://apim-jl-apr01.azure-api.net/openai/deployments/gpt-4o/chat/completions?api-version=2024-02-01\" #예: https://apim-jl-apr01.azure-api.net/openai/deployments/gpt-4o/chat/completions?api-version=2024-02-01\n",
    "api_runs = []\n",
    "for i in range(1):\n",
    "    extra_body={\n",
    "        \"data_sources\":[\n",
    "            {\n",
    "                \"type\": \"azure_search\",\n",
    "                \"parameters\": {\n",
    "                    \"endpoint\": \"{ai-search-endpoint}\", # 예: https://{ai-search-endpoint}.search.windows.net\n",
    "                    \"index_name\": \"{azure-ai-search-index-name}\", # Azure AI Search 리소스의 인덱스 이름을 입력합니다.\n",
    "                    \"authentication\": {\n",
    "                        \"type\": \"api_key\",\n",
    "                        \"key\": \"{azure-ai-search-api-key}\", # Azure AI Search 리소스의 API 키를 입력합니다.\n",
    "                    }\n",
    "                }\n",
    "            }\n",
    "        ],\n",
    "    }\n",
    "    \n",
    "    messages={\n",
    "        \"messages\":[\n",
    "            {\"role\": \"system\", \"content\": \"You are an AI assistant that helps people find information.\"},\n",
    "            {\"role\": \"user\", \"content\": \"서울교대부초와 중대부초 중에 원서 접수가 먼저 마감되는 곳은 어디인가요?\"}\n",
    "        ]\n",
    "    }\n",
    "\n",
    "    json_messages = messages | extra_body\n",
    "\n",
    "    response = requests.post(url, headers = {'Ocp-Apim-Subscription-Key': apim_subscription_key, 'work-type': 'work'}, json = json_messages)\n",
    "    \n",
    "    if (response.status_code == 200):\n",
    "        print(\"▶️ Run: \", i+1, \"status code: \", response.status_code, \"✅\")\n",
    "        data = json.loads(response.text)\n",
    "        total_tokens = data.get(\"usage\").get(\"total_tokens\")\n",
    "        print(\"💬 \", data.get(\"choices\")[0].get(\"message\").get(\"content\"))\n",
    "    else:\n",
    "        print(\"▶️ Run: \", i+1, \"status code: \", response.status_code, \"⛔\")\n",
    "        print(response.text)\n",
    "        total_tokens = 0\n",
    "    \n",
    "    print(\"x-ms-region:\", '\\x1b[1;31m'+response.headers.get(\"x-ms-region\")+'\\x1b[0m') # 이 헤더를 통하여 어느 Region의 Azure OpenAI 서비스에서 응답을 리턴했는지 파악할 수 있음\n",
    "    s = response.content.decode(\"utf-8\")\n",
    "\n",
    "    api_runs.append((total_tokens, response.status_code))\n"
   ]
  }
 ],
 "metadata": {
  "kernelspec": {
   "display_name": ".venv",
   "language": "python",
   "name": "python3"
  },
  "language_info": {
   "codemirror_mode": {
    "name": "ipython",
    "version": 3
   },
   "file_extension": ".py",
   "mimetype": "text/x-python",
   "name": "python",
   "nbconvert_exporter": "python",
   "pygments_lexer": "ipython3",
   "version": "3.13.3"
  }
 },
 "nbformat": 4,
 "nbformat_minor": 2
}
